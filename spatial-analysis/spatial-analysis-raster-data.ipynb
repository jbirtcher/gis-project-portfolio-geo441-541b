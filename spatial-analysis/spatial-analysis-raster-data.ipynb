{
  "nbformat": 4,
  "nbformat_minor": 0,
  "metadata": {
    "colab": {
      "provenance": [],
      "include_colab_link": true
    },
    "kernelspec": {
      "name": "python3",
      "display_name": "Python 3"
    },
    "language_info": {
      "name": "python"
    }
  },
  "cells": [
    {
      "cell_type": "markdown",
      "metadata": {
        "id": "view-in-github",
        "colab_type": "text"
      },
      "source": [
        "<a href=\"https://colab.research.google.com/github/jbirtcher/gis-project-portfolio-geo441-541b/blob/main/spatial-analysis/Copy_of_week_09_assignment_template.ipynb\" target=\"_parent\"><img src=\"https://colab.research.google.com/assets/colab-badge.svg\" alt=\"Open In Colab\"/></a>"
      ]
    },
    {
      "cell_type": "markdown",
      "source": [
        "# **Spatial analysis for raster data**"
      ],
      "metadata": {
        "id": "C0ymCPR5aSHN"
      }
    },
    {
      "cell_type": "markdown",
      "source": [
        "🚀 Created by Josh Birtcher\n",
        "\n",
        "10/27/2024"
      ],
      "metadata": {
        "id": "Pt_OREXFPvkr"
      }
    },
    {
      "cell_type": "markdown",
      "source": [
        "## **Get ready to start**\n",
        "\n",
        "- Click **`File/Save a copy in Drive`** to save a copy of this notebook to my own Google Drive"
      ],
      "metadata": {
        "id": "CMQN_pgaHVLO"
      }
    },
    {
      "cell_type": "markdown",
      "source": [
        "## **Overview**\n",
        "\n",
        "This notebook contains three parts:\n",
        "\n",
        "- Use the [USGS 3DEP](https://www.usgs.gov/3d-elevation-program) 10-m resolution DEM to create a topographic map of the City of Oxford, OH\n",
        "- Georeference a campus map and create a campus map on the background of hillshade derived based on the USGS 3DEP DEM\n",
        "- Use zonal statistics to calculate the average slope within each parcel of the City of Oxford, OH and identify parcels with steepest slope"
      ],
      "metadata": {
        "id": "6tKmlbnzny_I"
      }
    },
    {
      "cell_type": "markdown",
      "source": [
        "## **Map of elevation for the City of Oxford, OH**\n"
      ],
      "metadata": {
        "id": "WVs4J1jQbESU"
      }
    },
    {
      "cell_type": "markdown",
      "source": [
        "- Use the checklist below to make sure our map contains all necessary map content and is formatted correctly\n",
        "\n",
        "  - [ ] Contains a title with byline (i.e., by [your name])\n",
        "  - [ ] Use a larger and bold font type for the title\n",
        "  - [ ] Contains a layer of **Elevation**\n",
        "  - [ ] A **hillshade** layer is added to the map to enhance the visualization of elevation, but **not included** in the legend\n",
        "  - [ ] Uses the elevation color ramp to visualize the **Elevation** layer by elevation\n",
        "  - [ ] Contains a map scale\n",
        "  - [ ] Contains a legend\n",
        "  - [ ] Contains a north arrow\n",
        "  - [ ] Uses a balanced layout for all map elements\n",
        "    - [ ] Map stays in the center of layout\n",
        "    - [ ] Font size of title is appropriate (not too big or too small)\n",
        "    - [ ] Legend, map scale bar, and north arrow are placed appropriately to avoid an overlap with the map layers\n",
        "    - [ ] Legend, map scale bar, and north arrow has an appropriate size (big enough to read information, small enough to reserve most of space for map layers"
      ],
      "metadata": {
        "id": "bXB_pi-aPTOT"
      }
    },
    {
      "cell_type": "markdown",
      "source": [
        "```markdown\n",
        "https://drive.google.com/file/d/1on4YuT2DY-_qHvh6GJbhOVWMGwR2fBR_/view?usp=sharing\n",
        "```\n",
        "\n",
        "- After finishing the two steps below, a link can be created to correctly rendered in Google Colab\n",
        "  - Deleted **`/view?usp=sharing`** at the end of the link\n",
        "  - Replaced **`/file/d/`** with **`/uc?export=view&id=`**\n",
        "\n",
        "```markdown\n",
        "https://drive.google.com/uc?export=view&id=1on4YuT2DY-_qHvh6GJbhOVWMGwR2fBR_\n",
        "```\n",
        "\n",
        "- The map can be inserted in Google Colab following the syntax [from here](https://www.markdownguide.org/cheat-sheet/)\n",
        "\n",
        "\n",
        "Insert the map here using syntax:\n",
        "\n",
        "\n",
        "\n",
        "![Oxford, OH](https://drive.google.com/uc?export=view&id=1on4YuT2DY-_qHvh6GJbhOVWMGwR2fBR_)"
      ],
      "metadata": {
        "id": "wkJqun7umRRk"
      }
    },
    {
      "cell_type": "markdown",
      "source": [
        "## **Map of Miami University Campus**"
      ],
      "metadata": {
        "id": "qka_P6BYVCo0"
      }
    },
    {
      "cell_type": "markdown",
      "source": [
        "### **Georeference results**\n",
        "\n",
        "- Provide information of all GCPs you have used for georeferencing\n",
        "  - We require at least 10 GCPs\n",
        "\n",
        "```markdown\n",
        "https://drive.google.com/file/d/1-SCYRuwXB2KD47M4zYcOFPBobYSk6Bmq/view?usp=sharing\n",
        "```\n",
        "\n",
        "- After finishing the two steps below, a link can be created to correctly rendered in Google Colab\n",
        "  - Deleted **`/view?usp=sharing`** at the end of the link\n",
        "  - Replaced **`/file/d/`** with **`/uc?export=view&id=`**\n",
        "\n",
        "```markdown\n",
        "https://drive.google.com/uc?export=view&id=1-SCYRuwXB2KD47M4zYcOFPBobYSk6Bmq\n",
        "```\n",
        "\n",
        "- The map can be inserted in Google Colab following the syntax [from here](https://www.markdownguide.org/cheat-sheet/)\n",
        "\n",
        "\n",
        "Insert the screenshot here using syntax:\n",
        "\n",
        "\n",
        "![GCPs](https://drive.google.com/uc?export=view&id=1-SCYRuwXB2KD47M4zYcOFPBobYSk6Bmq)"
      ],
      "metadata": {
        "id": "8kSIAr7TVatN"
      }
    },
    {
      "cell_type": "markdown",
      "source": [
        "### **Campus map**\n",
        "\n",
        "\n",
        "- Use the checklist below to make sure our map contains all necessary map content and is formatted correctly\n",
        "\n",
        "  - [ ] Contains a title with byline (i.e., by [your name])\n",
        "  - [ ] Use a larger and bold font type for the title\n",
        "  - [ ] Contains a layer of **georefernced campus map**\n",
        "  - [ ] A **hillshade** layer is added to the map to enhance the visualization of elevation, but **not included** in the legend\n",
        "  - [ ] Contains a map scale\n",
        "  - [ ] Contains a north arrow\n",
        "  - [ ] Uses a balanced layout for all map elements\n",
        "    - [ ] Map stays in the center of layout\n",
        "    - [ ] Font size of title is appropriate (not too big or too small)\n",
        "    - [ ] Map scale bar and north arrow are placed appropriately to avoid an overlap with the map layers\n",
        "    - [ ] map scale bar and north arrow has an appropriate size (big enough to read information, small enough to reserve most of space for map layers"
      ],
      "metadata": {
        "id": "rMufM1ZoVIsG"
      }
    },
    {
      "cell_type": "markdown",
      "source": [
        "```markdown\n",
        "https://drive.google.com/file/d/18eg03sLDIhpwhjmB205wVTN4FriDQpR4/view?usp=sharing\n",
        "```\n",
        "\n",
        "- After finishing the two steps below, a link can be created to correctly rendered in Google Colab\n",
        "  - Deleted **`/view?usp=sharing`** at the end of the link\n",
        "  - Replaced **`/file/d/`** with **`/uc?export=view&id=`**\n",
        "\n",
        "```markdown\n",
        "https://drive.google.com/uc?export=view&id=18eg03sLDIhpwhjmB205wVTN4FriDQpR4\n",
        "```\n",
        "\n",
        "- The map can be inserted in Google Colab following the syntax [from here](https://www.markdownguide.org/cheat-sheet/)\n",
        "\n",
        "\n",
        "Insert the map here using syntax:\n",
        "\n",
        "\n",
        "![MU campus](https://drive.google.com/uc?export=view&id=18eg03sLDIhpwhjmB205wVTN4FriDQpR4)"
      ],
      "metadata": {
        "id": "KzPQIHhyVU78"
      }
    },
    {
      "cell_type": "markdown",
      "source": [
        "## **Map of steep parcels in the City of Oxford, OH**"
      ],
      "metadata": {
        "id": "1_9kgv7nWPi0"
      }
    },
    {
      "cell_type": "markdown",
      "source": [
        "- Use the checklist below to make sure our map contains all necessary map content and is formatted correctly\n",
        "\n",
        "  - [ ] Contains a title with byline (i.e., by [your name])\n",
        "  - [ ] Use a larger and bold font type for the title\n",
        "  - [ ] Contains a layer of **Parcels with average slope**\n",
        "  - [ ] Use a diverging color scheme to map the Parcels with average slope layer\n",
        "  - [ ] Uses the elevation color ramp to visualize the **Elevation** layer by elevation\n",
        "  - [ ] Contains a map scale\n",
        "  - [ ] Contains a legend\n",
        "  - [ ] Contains a north arrow\n",
        "  - [ ] Uses a balanced layout for all map elements\n",
        "    - [ ] Map stays in the center of layout\n",
        "    - [ ] Font size of title is appropriate (not too big or too small)\n",
        "    - [ ] Legend, map scale bar, and north arrow are placed appropriately to avoid an overlap with the map layers\n",
        "    - [ ] Legend, map scale bar, and north arrow has an appropriate size (big enough to read information, small enough to reserve most of space for map layers"
      ],
      "metadata": {
        "id": "s1fIk7zdWZF6"
      }
    },
    {
      "cell_type": "markdown",
      "source": [
        "```markdown\n",
        "https://drive.google.com/file/d/1GHQXlbZC1vgShALWsOSmpt2qrBEHMBEt/view?usp=sharing\n",
        "```\n",
        "\n",
        "- After finishing the two steps below, a link can be created to correctly rendered in Google Colab\n",
        "  - Deleted **`/view?usp=sharing`** at the end of the link\n",
        "  - Replaced **`/file/d/`** with **`/uc?export=view&id=`**\n",
        "\n",
        "```markdown\n",
        "https://drive.google.com/uc?export=view&id=1GHQXlbZC1vgShALWsOSmpt2qrBEHMBEt\n",
        "```\n",
        "\n",
        "- The map can be inserted in Google Colab following the syntax [from here](https://www.markdownguide.org/cheat-sheet/)\n",
        "\n",
        "\n",
        "Insert the map here using syntax:\n",
        "\n",
        "\n",
        "![steep slope](https://drive.google.com/uc?export=view&id=1GHQXlbZC1vgShALWsOSmpt2qrBEHMBEt)"
      ],
      "metadata": {
        "id": "CTzTj_VIWrDj"
      }
    },
    {
      "cell_type": "markdown",
      "source": [
        "## **Save and share this notebook**\n",
        "\n",
        "- Make this notebook viewable by anyone with the link and submit the link to Canvas as Week 9 assignment\n",
        "- **Save the final version of this notebook to your GitHub repository of GEO 441/541B**\n",
        "  - You can place this notebook under the same folder as the one you have used for the notebook of band composite"
      ],
      "metadata": {
        "id": "kkgukjDcXsqC"
      }
    },
    {
      "cell_type": "markdown",
      "source": [
        "## **Reference**\n",
        "\n",
        "- [Markdown cheat sheet](https://www.markdownguide.org/cheat-sheet/)\n",
        "- [Insert other references]"
      ],
      "metadata": {
        "id": "fvMbEX89YLeY"
      }
    }
  ]
}
