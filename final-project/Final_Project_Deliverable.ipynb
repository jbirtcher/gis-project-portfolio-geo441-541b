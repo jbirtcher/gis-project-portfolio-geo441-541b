{
  "nbformat": 4,
  "nbformat_minor": 0,
  "metadata": {
    "colab": {
      "provenance": [],
      "authorship_tag": "ABX9TyNybfaF+ErGqCGbO2uUdijA",
      "include_colab_link": true
    },
    "kernelspec": {
      "name": "python3",
      "display_name": "Python 3"
    },
    "language_info": {
      "name": "python"
    }
  },
  "cells": [
    {
      "cell_type": "markdown",
      "metadata": {
        "id": "view-in-github",
        "colab_type": "text"
      },
      "source": [
        "<a href=\"https://colab.research.google.com/github/jbirtcher/gis-project-portfolio-geo441-541b/blob/main/final-project/Final_Project_Deliverable.ipynb\" target=\"_parent\"><img src=\"https://colab.research.google.com/assets/colab-badge.svg\" alt=\"Open In Colab\"/></a>"
      ]
    },
    {
      "cell_type": "code",
      "execution_count": null,
      "metadata": {
        "id": "9Yg8xWUDGaYQ"
      },
      "outputs": [],
      "source": []
    },
    {
      "cell_type": "markdown",
      "source": [
        "[Final Presentation](https://storymaps.arcgis.com/stories/2fbdb1dd7fc24b749aafe3f527748ce2)\n",
        "\n",
        "[Proposal](https://docs.google.com/presentation/d/1GYyj2mFIGV06sLxwpig2N_kjq31tBjIsOv-t2cSG8I4/edit?usp=sharing)"
      ],
      "metadata": {
        "id": "cMRrul7cGeKs"
      }
    }
  ]
}