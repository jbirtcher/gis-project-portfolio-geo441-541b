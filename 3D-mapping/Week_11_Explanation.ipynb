{
  "nbformat": 4,
  "nbformat_minor": 0,
  "metadata": {
    "colab": {
      "provenance": [],
      "toc_visible": true,
      "include_colab_link": true
    },
    "kernelspec": {
      "name": "python3",
      "display_name": "Python 3"
    },
    "language_info": {
      "name": "python"
    }
  },
  "cells": [
    {
      "cell_type": "markdown",
      "metadata": {
        "id": "view-in-github",
        "colab_type": "text"
      },
      "source": [
        "<a href=\"https://colab.research.google.com/github/jbirtcher/gis-project-portfolio-geo441-541b/blob/main/3D-mapping/Week_11_Explanation.ipynb\" target=\"_parent\"><img src=\"https://colab.research.google.com/assets/colab-badge.svg\" alt=\"Open In Colab\"/></a>"
      ]
    },
    {
      "cell_type": "markdown",
      "source": [
        "# **Explaining the Week 11 Assignment**"
      ],
      "metadata": {
        "id": "C0ymCPR5aSHN"
      }
    },
    {
      "cell_type": "markdown",
      "source": [
        "🚀 Created by Josh Birtcher\n",
        "\n",
        "[11/19/2024]"
      ],
      "metadata": {
        "id": "Pt_OREXFPvkr"
      }
    },
    {
      "cell_type": "markdown",
      "source": [
        "## **Overview**\n",
        "\n",
        "Once having opened ArcGis\n",
        "- Put your building layer into a 2d model of the map.\n",
        "- Then open the feature layer tab and then create an extrusion using the height in feet.\n",
        "- Then open up Layer 3D to feature class and create it using BLOCK_LOT_BLDG.\n",
        "\n",
        "Adding Texture\n",
        "- Open up Modify Features\n",
        "  - Then Multipatch Texture\n",
        "- Once in Multipatch Texture, select a face that you wish to put an image on. Load the image onto ArcGIS and then pa, zoom, and rotate to fit the building.\n",
        "- If you aren't doing all of the sides, you can make the other sides of the buildings a neutral color.\n",
        "  - Make sure you are saving your work periodically to ensure you do not lose any progress.\n",
        "\n",
        "Repeat the process for the remaining buildings."
      ],
      "metadata": {
        "id": "6tKmlbnzny_I"
      }
    },
    {
      "cell_type": "markdown",
      "source": [
        "- **Information on historical buildings**\n",
        "\n",
        "| Block Number | Lot Number | Building Number | Height in Feet | Sanborn Floor Number |\n",
        "| ---------------- | ---------------- | ---------------- || ----------------\n",
        "| 166 | 7 | 166-7 | 37 | 2  |\n"
      ],
      "metadata": {
        "id": "xuG1CFbBlawa"
      }
    },
    {
      "cell_type": "markdown",
      "source": [
        "- **Information on historical buildings**\n",
        "\n",
        "| Block Number | Lot Number | Building Number | Height in Feet | Sanborn Floor Number |\n",
        "| ---------------- | ---------------- | ---------------- || ----------------\n",
        "| 166 | 8 | 166-8 | 58 | Null  |\n",
        "\n"
      ],
      "metadata": {
        "id": "IYtrES3YHEew"
      }
    },
    {
      "cell_type": "markdown",
      "source": [
        "- **Information on historical buildings**\n",
        "\n",
        "| Block Number | Lot Number | Building Number | Height in Feet | Sanborn Floor Number |\n",
        "| ---------------- | ---------------- | ---------------- || ----------------\n",
        "| 166 | 8 | 166-8 | 38 | Null  |\n",
        "\n"
      ],
      "metadata": {
        "id": "eA_zHoDoHFk2"
      }
    },
    {
      "cell_type": "markdown",
      "source": [
        "![ 3D Map](https://drive.google.com/uc?export=view&id=1F6uNjIccyIU87b4NbEJqvpadfd6mjWM7)"
      ],
      "metadata": {
        "id": "vxRi9vVqIenl"
      }
    }
  ]
}